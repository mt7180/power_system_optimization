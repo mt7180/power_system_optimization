{
 "cells": [
  {
   "cell_type": "markdown",
   "metadata": {},
   "source": [
    "## 1. Basic Capacity Expansion (without transmission & storage)\n",
    "_Power System Optimization_\n",
    "\n",
    "**Objective**: minimizing the cost of fixed and variable costs across a fleet of power generators to meet anticipated future electricity demand.  \n",
    "**Note**:\n",
    "Inter-temporal operating constraints (e.g. ramp limits), energy storage, network constraints and geospatial tradeoffs, network transmission, unit commitment decisions for thermal generators and operating reserves are ignored here\n",
    "\n",
    "Increasing level of realism:  \n",
    "1.1 Optimal thermal generator capacity expansion problem (Greenfield)  \n",
    "1.2 Co-optimizing thermal generators and variable renewables  \n",
    "1.3 Brownfield expansion and retirement decisions\n",
    "\n",
    "... next levels: + storage units and power transmission"
   ]
  },
  {
   "cell_type": "markdown",
   "metadata": {},
   "source": [
    "### 1.1 Optimal thermal generator capacity expansion problem (Greenfield)\n",
    "**Problem Formulation**:  \n",
    "Determine the most cost-effective mix of new thermal generation units for a power system, given projected electricity demand, fuel costs, and environmental constraints. Minimize the total cost of generation, which includes capital investment, operational, and maintenance costs, while satisfying operational constraints (such as generator limits). The \"Greenfield\" approach assumes no existing infrastructure, focussing solely on optimal new capacity decisions.\n",
    "\n",
    "#### Basic formulation (without storage, renewable generators and transmission)\n",
    "_see also: https://github.com/Power-Systems-Optimization-Course/power-systems-optimization/blob/master/Notebooks/03-Basic-Capacity-Expansion.ipynb_\n",
    "\n",
    "$$G = \\text{set of generators}$$  \n",
    "$$H = \\text{the set of hours of the year}$$\n",
    "\n",
    "Objective Function:\n",
    "\n",
    "$\\begin{align}\n",
    "   \\min \\sum_{g \\in G} \\left(FixedCost_g \\times CAP_g + \\sum_{h \\in H} VarCost_g \\times x_{g,h}\\right)\n",
    "    \\quad\\quad+ \\sum_{h \\in H} NSECost \\times NSE_h\n",
    "\\end{align}$\n",
    "\n",
    "subject to:\n",
    "$\\begin{align}\n",
    "    & \\sum_{g \\in G} x_{g,h} + NSE_h = Demand_h & \\forall \\quad h \\in H \\\\\n",
    "    & x_{g,h} \\leq CAP_g & \\quad \\forall g \\in G \\text{ , } h \\in H \\\\\n",
    "    & CAP_{g} \\geq 0 & \\quad \\forall g \\in G \\\\\n",
    "    & NSE_{h} \\geq 0 & \\quad \\forall  h \\in H \\\\\n",
    "    & x_{g,h} \\geq 0 & \\quad \\forall  g \\in G \\text{ , } h \\in H \\\\\n",
    "\\end{align}$\n",
    "\n",
    "with:\n",
    "$\\begin{align}\n",
    "    &FixedCost_g = Capex_g \\times CRF_g + FixedOM_g \\quad \\forall g \\in G\\\\\n",
    "    &CRF_g = \\frac{WACC_g(1+WACC_g)^{Life_g}}{(1+WACC_g)^{Life_g}-1} \\quad \\forall g \\in G\\\\\n",
    "    &VarCost_g = VarOM_g + HeatRate_g \\times FuelCost_g \\quad \\forall g \\in G\n",
    "\\end{align}$\n",
    "\n",
    " "
   ]
  },
  {
   "cell_type": "markdown",
   "metadata": {},
   "source": [
    "Decision Variables:  \n",
    "$CAP_g$: the capacity (in MW) of each generation type  \n",
    "$GEN_{g,h}$ : the generation (in MWh) produced by each generator in each hour  \n",
    "$NSE_h$ :the quantity of involuntarily curtailed demand in each hour (in MWh)\n",
    "\n",
    "_caution: demand is given in units of power (MW) and if resolution is not hourly, you need to multiply by the snapshot weighting (resolution) to get the energy consumed!_"
   ]
  },
  {
   "cell_type": "markdown",
   "metadata": {},
   "source": [
    "... for 1.2 and 1.3 see [Power Systems Optimization Course](https://github.com/Power-Systems-Optimization-Course/power-systems-optimization/blob/30c3463a375f27928430581cb416a5361cee31fa/Notebooks/03-Basic-Capacity-Expansion.ipynb)  \n",
    "\n",
    "## 2. Single Node Capacity Expansion\n",
    "_with PyPSA_"
   ]
  },
  {
   "cell_type": "markdown",
   "metadata": {},
   "source": [
    "- the pypsa **single-node approach** focusses on optimizing the generation and storage capacities without modelling the transmission network here.\n",
    "- for a detailed mathematical formulation of the capacity expansion problem considered by pypsa (with storage and renewable generators, etc) see: https://pypsa.readthedocs.io/en/latest/examples/capacity-expansion-planning-single-node.html \n",
    "\n",
    "\n"
   ]
  },
  {
   "cell_type": "markdown",
   "metadata": {},
   "source": [
    "### Loading technology-data from PyPSA database"
   ]
  },
  {
   "cell_type": "code",
   "execution_count": null,
   "metadata": {},
   "outputs": [],
   "source": [
    "import pandas as pd\n",
    "\n",
    "# assumptions and projections for 2030:\n",
    "year = 2030\n",
    "url = f\"https://raw.githubusercontent.com/PyPSA/technology-data/master/outputs/costs_{year}.csv\"\n",
    "costs = pd.read_csv(url, index_col=[0, 1])\n",
    "\n",
    "# unit conversions\n",
    "perkW_to_perMW = 1000\n",
    "costs.loc[costs.unit.str.contains(\"/kW\"), \"value\"] *= perkW_to_perMW\n",
    "costs.unit = costs.unit.str.replace(\"/kW\", \"/MW\")\n",
    "\n",
    "# setting default values (for NaN)\n",
    "default_values = {\n",
    "    \"FOM\": 0,\n",
    "    \"VOM\": 0,\n",
    "    \"efficiency\": 1,\n",
    "    \"fuel\": 0,\n",
    "    \"investment\": 0,\n",
    "    \"lifetime\": 25,\n",
    "    \"CO2 intensity\": 0,\n",
    "    \"discount rate\": 0.07,\n",
    "}\n",
    "costs = costs.value.unstack().fillna(default_values)\n",
    "\n",
    "costs.at[\"OCGT\", \"fuel\"] = costs.at[\"gas\", \"fuel\"]\n",
    "costs.at[\"CCGT\", \"fuel\"] = costs.at[\"gas\", \"fuel\"]\n",
    "costs.at[\"OCGT\", \"CO2 intensity\"] = costs.at[\"gas\", \"CO2 intensity\"]\n",
    "costs.at[\"CCGT\", \"CO2 intensity\"] = costs.at[\"gas\", \"CO2 intensity\"]\n",
    "\n",
    "# calculating the short-term marginal generation costs (STMGC, €/MWh)\n",
    "costs[\"marginal_cost\"] = costs[\"VOM\"] + costs[\"fuel\"] / costs[\"efficiency\"]\n",
    "\n",
    "# calculating capital costs\n",
    "def annuity(r, n):\n",
    "    return r / (1.0 - 1.0 / (1.0 + r) ** n)\n",
    "annuity = costs.apply(lambda x: annuity(x[\"discount rate\"], x[\"lifetime\"]), axis=1)\n",
    "costs[\"capital_cost\"] = (annuity + costs[\"FOM\"] / 100) * costs[\"investment\"]\n",
    "\n",
    "costs.head(3)"
   ]
  },
  {
   "cell_type": "markdown",
   "metadata": {},
   "source": [
    "### Loading the time-series data for wind, solar and load (Germany 2015):"
   ]
  },
  {
   "cell_type": "code",
   "execution_count": null,
   "metadata": {},
   "outputs": [],
   "source": [
    "GW_to_MW = 1000\n",
    "\n",
    "url = \"https://tubcloud.tu-berlin.de/s/pKttFadrbTKSJKF/download/time-series-lecture-2.csv\"\n",
    "ts = pd.read_csv(url, index_col=0, parse_dates=True)\n",
    "\n",
    "ts.load *= GW_to_MW\n",
    "resolution = 4 #h\n",
    "ts = ts.resample(f\"{resolution}h\").first()\n",
    "\n",
    "ts.head(3)"
   ]
  },
  {
   "cell_type": "markdown",
   "metadata": {},
   "source": [
    "### Setting-up the model with pypsa  (only one bus)"
   ]
  },
  {
   "cell_type": "code",
   "execution_count": null,
   "metadata": {},
   "outputs": [],
   "source": [
    "# Tutorial: https://github.com/PyPSA/PyPSA/blob/9bc6f9142047a4285cfc99c2a5b71870e8cdbb83/examples/notebooks/capacity-expansion-planning-single-node.ipynb\n",
    "\n",
    "import matplotlib.pyplot as plt\n",
    "\n",
    "import pypsa\n",
    "\n",
    "n = pypsa.Network()\n",
    "\n",
    "n.add(\"Bus\", name = \"electricity-single-bus\")\n",
    "n.set_snapshots(ts.index)\n",
    "n.snapshot_weightings.loc[:, :] = resolution \n",
    "\n",
    "# add multiple carriers/ technologies at once\n",
    "technologies = [\n",
    "    \"onwind\",\n",
    "    \"offwind\",\n",
    "    \"solar\",\n",
    "    \"OCGT\",\n",
    "    \"hydrogen storage underground\",\n",
    "    \"battery storage\",\n",
    "]\n",
    "n.madd(\n",
    "    \"Carrier\",\n",
    "    technologies,\n",
    "    color=[\"dodgerblue\", \"aquamarine\", \"gold\", \"indianred\", \"magenta\", \"yellowgreen\"],\n",
    "    co2_emissions=[costs.at[s, \"CO2 intensity\"] for s in technologies],\n",
    ")\n",
    "# add load time-series\n",
    "n.add(\n",
    "    \"Load\",\n",
    "    \"demand\",\n",
    "    bus=\"electricity-single-bus\",\n",
    "    p_set = ts.load,\n",
    ")\n",
    "n.loads_t.p_set.plot(figsize=(6, 2), ylabel=\"MW\")"
   ]
  },
  {
   "cell_type": "code",
   "execution_count": null,
   "metadata": {},
   "outputs": [],
   "source": [
    "# add one dispatchable generator to the one bus (open cycle gas turbine - OCGT)\n",
    "# (offers sufficient and cheap enough backup capacity to run in periods of low wind and solar generation)\n",
    "n.add(\n",
    "    \"Generator\",\n",
    "    \"OCGT\",\n",
    "    bus=\"electricity-single-bus\",\n",
    "    carrier=\"OCGT\",\n",
    "    capital_cost=costs.at[\"OCGT\", \"capital_cost\"],\n",
    "    marginal_cost=costs.at[\"OCGT\", \"marginal_cost\"],\n",
    "    efficiency=costs.at[\"OCGT\", \"efficiency\"],\n",
    "    p_nom_extendable=True,\n",
    ")\n",
    "\n",
    "# add variable renewable generators with capacity factors to the one bus (p_max_pu)\n",
    "for technology in [\"onwind\", \"offwind\", \"solar\"]:\n",
    "    n.add(\n",
    "        \"Generator\",\n",
    "        technology,\n",
    "        bus=\"electricity-single-bus\",\n",
    "        carrier=technology,\n",
    "        p_max_pu=ts[technology],\n",
    "        capital_cost=costs.at[technology, \"capital_cost\"],\n",
    "        marginal_cost=costs.at[technology, \"marginal_cost\"],\n",
    "        efficiency=costs.at[technology, \"efficiency\"],\n",
    "        p_nom_extendable=True,\n",
    "    )\n",
    "n.generators_t.p_max_pu.loc[\"2015-03\"].plot(figsize=(6, 2), ylabel=\"CF\")"
   ]
  },
  {
   "cell_type": "code",
   "execution_count": 5,
   "metadata": {},
   "outputs": [],
   "source": [
    "# add a battery storage with fixed energy-to-power ratio of 6h (if fully charged, battery can discharge at full capacity for 6 hours)\n",
    "n.add(\n",
    "    \"StorageUnit\",\n",
    "    \"battery storage\",\n",
    "    bus=\"electricity-single-bus\",\n",
    "    carrier=\"battery storage\",\n",
    "    max_hours=6,\n",
    "    capital_cost=costs.at[\"battery inverter\", \"capital_cost\"]\n",
    "    + 6 * costs.at[\"battery storage\", \"capital_cost\"],\n",
    "    efficiency_store=costs.at[\"battery inverter\", \"efficiency\"],\n",
    "    efficiency_dispatch=costs.at[\"battery inverter\", \"efficiency\"],\n",
    "    p_nom_extendable=True,\n",
    "    cyclic_state_of_charge=True,\n",
    ")\n",
    "\n",
    "# add a hydrogen storage composed of an electrolysis to convert electricity to hydrogen, a fuel cell to re-convert hydrogen to electricity \n",
    "# and underground storage (e.g. in salt caverns). Assumed energy-to-power ratio of 168 hours, such that this type of storage can be used for weekly balancing.\n",
    "capital_costs = (\n",
    "    costs.at[\"electrolysis\", \"capital_cost\"]\n",
    "    + costs.at[\"fuel cell\", \"capital_cost\"]\n",
    "    + 168 * costs.at[\"hydrogen storage underground\", \"capital_cost\"]\n",
    ")\n",
    "\n",
    "n.add(\n",
    "    \"StorageUnit\",\n",
    "    \"hydrogen storage underground\",\n",
    "    bus=\"electricity-single-bus\",\n",
    "    carrier=\"hydrogen storage underground\",\n",
    "    max_hours=168,\n",
    "    capital_cost=capital_costs,\n",
    "    efficiency_store=costs.at[\"electrolysis\", \"efficiency\"],\n",
    "    efficiency_dispatch=costs.at[\"fuel cell\", \"efficiency\"],\n",
    "    p_nom_extendable=True,\n",
    "    cyclic_state_of_charge=True,\n",
    ")"
   ]
  },
  {
   "cell_type": "code",
   "execution_count": 6,
   "metadata": {},
   "outputs": [],
   "source": [
    "# add CO2-emission limit as global constraint to model a 100% renewable electricity system\n",
    "n.add(\n",
    "    \"GlobalConstraint\",\n",
    "    \"CO2Limit\",\n",
    "    carrier_attribute=\"co2_emissions\",\n",
    "    sense=\"<=\",\n",
    "    constant=0,\n",
    ")"
   ]
  },
  {
   "cell_type": "markdown",
   "metadata": {},
   "source": [
    "### Calculate the total system cost in Eur/year"
   ]
  },
  {
   "cell_type": "code",
   "execution_count": null,
   "metadata": {},
   "outputs": [],
   "source": [
    "n.optimize(solver_name=\"highs\")\n",
    "n.objective"
   ]
  },
  {
   "cell_type": "code",
   "execution_count": null,
   "metadata": {},
   "outputs": [],
   "source": [
    "# Optimized Capacities in MW\n",
    "n.generators.p_nom_opt"
   ]
  },
  {
   "cell_type": "code",
   "execution_count": null,
   "metadata": {},
   "outputs": [],
   "source": [
    "# Total energy generation by technology in MW\n",
    "(n.statistics.capex() + n.statistics.opex()).div(1e3)"
   ]
  },
  {
   "cell_type": "code",
   "execution_count": null,
   "metadata": {},
   "outputs": [],
   "source": [
    "n.storage_units.p_nom_opt  # MW"
   ]
  },
  {
   "cell_type": "code",
   "execution_count": null,
   "metadata": {},
   "outputs": [],
   "source": [
    "# Total CO2-emmisions in t/h\n",
    "emissions = (\n",
    "    n.generators_t.p\n",
    "    / n.generators.efficiency\n",
    "    * n.generators.carrier.map(n.carriers.co2_emissions)\n",
    ")\n",
    "n.snapshot_weightings.generators @ emissions.sum(axis=1) # in t"
   ]
  },
  {
   "cell_type": "code",
   "execution_count": null,
   "metadata": {},
   "outputs": [],
   "source": [
    "def plot_dispatch(n, time=\"2015-07\"):\n",
    "    p_by_carrier = n.generators_t.p.T.groupby(n.generators.carrier).sum().T.div(1e3)\n",
    "\n",
    "    if not n.storage_units.empty:\n",
    "        sto = n.storage_units_t.p.T.groupby(n.storage_units.carrier).sum().T.div(1e3)\n",
    "        p_by_carrier = pd.concat([p_by_carrier, sto], axis=1)\n",
    "\n",
    "    _, ax = plt.subplots(figsize=(6, 3))\n",
    "\n",
    "    color = p_by_carrier.columns.map(n.carriers.color)\n",
    "\n",
    "    p_by_carrier.where(p_by_carrier > 0).loc[time].plot.area(\n",
    "        ax=ax,\n",
    "        linewidth=0,\n",
    "        color=color,\n",
    "    )\n",
    "\n",
    "    charge = p_by_carrier.where(p_by_carrier < 0).dropna(how=\"all\", axis=1).loc[time]\n",
    "\n",
    "    if not charge.empty:\n",
    "        charge.plot.area(\n",
    "            ax=ax,\n",
    "            linewidth=0,\n",
    "            color=charge.columns.map(n.carriers.color),\n",
    "        )\n",
    "\n",
    "    n.loads_t.p_set.sum(axis=1).loc[time].div(1e3).plot(ax=ax, c=\"k\")\n",
    "\n",
    "    plt.legend(loc=(1.05, 0))\n",
    "    ax.set_ylabel(\"GW\")\n",
    "    ax.set_ylim(-200, 200)\n",
    "plot_dispatch(n)"
   ]
  },
  {
   "cell_type": "code",
   "execution_count": null,
   "metadata": {},
   "outputs": [],
   "source": [
    "def system_cost(n):\n",
    "    tsc = n.statistics.capex() + n.statistics.opex()\n",
    "    return tsc.droplevel(0).div(1e6)  # million €/a\n",
    "system_cost(n).plot.pie(figsize=(2, 2))"
   ]
  },
  {
   "cell_type": "code",
   "execution_count": null,
   "metadata": {},
   "outputs": [],
   "source": [
    "# compute the cost per unit of electricity consumed\n",
    "demand = n.snapshot_weightings.generators @ n.loads_t.p_set.sum(axis=1)\n",
    "system_cost(n).sum() * 1e6 / demand.sum()\n",
    "#n.export_to_netcdf(\"network-new.nc\")"
   ]
  },
  {
   "cell_type": "code",
   "execution_count": null,
   "metadata": {},
   "outputs": [],
   "source": []
  }
 ],
 "metadata": {
  "kernelspec": {
   "display_name": "pypsa_venv",
   "language": "python",
   "name": "python3"
  },
  "language_info": {
   "codemirror_mode": {
    "name": "ipython",
    "version": 3
   },
   "file_extension": ".py",
   "mimetype": "text/x-python",
   "name": "python",
   "nbconvert_exporter": "python",
   "pygments_lexer": "ipython3",
   "version": "3.11.9"
  }
 },
 "nbformat": 4,
 "nbformat_minor": 2
}
