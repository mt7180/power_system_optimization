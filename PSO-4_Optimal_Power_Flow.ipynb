{
 "cells": [
  {
   "cell_type": "markdown",
   "metadata": {},
   "source": [
    "# Linear Optimal Power Flow (LOPF) \n",
    "_with the IEEE 24-Bus Reliability Test System (RTS) & PyPSA_"
   ]
  },
  {
   "cell_type": "markdown",
   "metadata": {},
   "source": [
    "> The IEEE RTS 24-Bus Test system System (original from 1979) is given here: https://icseg.iti.illinois.edu/ieee-24-bus-system/. It is also implemented in [pandapower](https://raw.githubusercontent.com/e2nIEE/pandapower/master/pandapower/networks/power_system_test_case_jsons/case24_ieee_rts.json).\n",
    "\n",
    "### [Input LOPF vs Non-Linear OPF](https://pypsa.readthedocs.io/en/latest/user-guide/power-flow.html#id4)\n",
    "|LOPF| Non-Linear OPF|\n",
    "|----|----|\n",
    "|- n.buses.{v_nom}| - n.buses.{v_nom, v_mag_pu_set}\n",
    "|- n.loads.{p_set}| - n.loads.{p_set, q_set}|\n",
    "|- n.generators.{p_set}| - n.generators.{control, p_set, q_set}|\n",
    "|- n.storage_units.{p_set}| - n.storage_units.{control, p_set, q_set}|\n",
    "|- n.stores.{p_set}| - n.stores.{p_set, q_set}|\n",
    "|- n.shunt_impedances.{g}| - n.shunt_impedances.{b, g}|\n",
    "|- n.lines.{x}| - n.lines.{x, r, b, g}|\n",
    "|- n.transformers.{x}| - n.transformers.{x, r, b, g}|\n",
    "|- n.links.{p_set}| - n.links.{p_set}||"
   ]
  },
  {
   "cell_type": "code",
   "execution_count": null,
   "metadata": {},
   "outputs": [],
   "source": [
    "import cartopy.crs as ccrs\n",
    "import json\n",
    "import matplotlib.pyplot as plt\n",
    "import pandas as pd\n",
    "import pypsa\n",
    "import requests"
   ]
  },
  {
   "cell_type": "markdown",
   "metadata": {},
   "source": [
    "Get the IEEE 24 bus system from pandapower (here old version from 1979):"
   ]
  },
  {
   "cell_type": "code",
   "execution_count": null,
   "metadata": {},
   "outputs": [],
   "source": [
    "\n",
    "url = 'https://raw.githubusercontent.com/e2nIEE/pandapower/master/pandapower/networks/power_system_test_case_jsons/case24_ieee_rts.json'\n",
    "\n",
    "response = requests.get(url)\n",
    "response_obj = response.json()[\"_object\"]\n",
    "response_obj.keys()\n"
   ]
  },
  {
   "cell_type": "code",
   "execution_count": null,
   "metadata": {},
   "outputs": [],
   "source": [
    "def extract_pandapower_data(response_obj: dict)-> dict[str, pd.DataFrame]:  \n",
    "    def create_df(component: str) -> pd.DataFrame:\n",
    "        try:\n",
    "            data = json.loads(response_obj[component]['_object'])\n",
    "            data_df = pd.DataFrame(\n",
    "                data=data['data'], \n",
    "                columns=data['columns'], \n",
    "                index=data['index']\n",
    "            ).astype(response_obj[component]['dtype'])\n",
    "        except (KeyError, TypeError) :\n",
    "            print(f\"ommiting {component=} ...\")\n",
    "            return None\n",
    "        return data_df\n",
    "\n",
    "    return {\n",
    "        component: create_df(component) \n",
    "        for component in response_obj.keys()\n",
    "        if not component.startswith('res_')}\n",
    "\n",
    "data = extract_pandapower_data(response_obj)\n",
    "data.keys()"
   ]
  },
  {
   "cell_type": "markdown",
   "metadata": {},
   "source": [
    "Compose the PyPSA network:"
   ]
  },
  {
   "cell_type": "code",
   "execution_count": null,
   "metadata": {},
   "outputs": [],
   "source": [
    "network = pypsa.Network()\n",
    "network.set_snapshots(range(24)) #h\n",
    "\n",
    "network.add(\n",
    "    \"Carrier\",\n",
    "    'conventional',\n",
    "    nice_name=\"Conventional\",\n",
    "    color=\"grey\",\n",
    ")\n",
    "\n",
    "for index, row in data['bus'].iterrows():\n",
    "    network.add(\n",
    "        'Bus', \n",
    "        name=f\"bus_{index}\", \n",
    "        v_nom=row['vn_kv'],\n",
    "        x=data['bus_geodata'].loc[index, 'x'],\n",
    "        y=data['bus_geodata'].loc[index, 'y'],\n",
    "        carrier='AC'\n",
    "    )\n",
    "\n",
    "gen_poly_cost = data[\"poly_cost\"][(data['poly_cost']['et']=='gen')].set_index('element')\n",
    "\n",
    "for index, row in data['gen'].iterrows():\n",
    "    network.add(\n",
    "        'Generator', \n",
    "        name=f\"gen_{index}\", \n",
    "        bus=f\"bus_{row['bus']}\",\n",
    "        carrier=\"conventional\",\n",
    "        p_nom=row['max_p_mw'],\n",
    "        marginal_cost=gen_poly_cost.loc[index]['cp1_eur_per_mw'],\n",
    "        marginal_cost_quadratic=gen_poly_cost.loc[index]['cp2_eur_per_mw2'],\n",
    "    )\n",
    "\n",
    "# add trafos from pandapower to transformer_types\n",
    "for _, trafo in data['trafo'].iterrows():\n",
    "    trafo_name = f\"{int(trafo['sn_mva'])} MVA {int(trafo['vn_hv_kv'])}/{int(trafo['vn_lv_kv'])} kV\"\n",
    "    new_trafo = pd.Series(index=network.transformer_types.columns,)\n",
    "    new_trafo[:'phase_shift'] = [60, *trafo['sn_mva': 'shift_degree']]\n",
    "    new_trafo['tap_step']=trafo['tap_step_percent']\n",
    "    new_trafo['tap_side']=0\n",
    "    new_trafo['tap_neutral']=0\n",
    "   \n",
    "    network.transformer_types.loc[trafo_name] = new_trafo\n",
    "\n",
    "for index, row in data['trafo'].iterrows():\n",
    "    network.add(\n",
    "        'Transformer',\n",
    "        name=f'trafo_{index}',\n",
    "        bus0=f'bus_{row[\"hv_bus\"]}',\n",
    "        bus1=f'bus_{row[\"lv_bus\"]}',\n",
    "        type=f\"{int(row['sn_mva'])} MVA {int(row['vn_hv_kv'])}/{int(row['vn_lv_kv'])} kV\"\n",
    "    )\n",
    "\n",
    "for index, row in data['line'].iterrows():\n",
    "    network.add(\n",
    "        'Line',\n",
    "        name=f'cable_{index}',\n",
    "        bus0=f'bus_{row[\"from_bus\"]}',\n",
    "        bus1=f'bus_{row[\"to_bus\"]}',\n",
    "        length=row['length_km'],\n",
    "        x= row['x_ohm_per_km']*row['length_km'],\n",
    "        r=row['r_ohm_per_km']*row['length_km'],\n",
    "        #b = row['c_nf_per_km']*2*np.pi*60/1000000000,\n",
    "        s_nom=500\n",
    "    )\n",
    "\n",
    "network.plot(\n",
    "    title='IEEE 24-Bus Reliability Test System (RTS)', \n",
    "    transformer_colors='orange',\n",
    ")\n",
    "\n",
    "for index, bus in network.buses.iterrows():\n",
    "    plt.text(bus.x, bus.y, f'{bus.name}', fontsize=8, zorder=99)\n",
    "plt.tight_layout()\n",
    "\n",
    "network.generators.T"
   ]
  },
  {
   "cell_type": "markdown",
   "metadata": {},
   "source": [
    "Total system demand and the demand per node:"
   ]
  },
  {
   "cell_type": "code",
   "execution_count": null,
   "metadata": {},
   "outputs": [],
   "source": [
    "# Add load\n",
    "total_system_demand_df = pd.DataFrame(\n",
    "    [\n",
    "        1775.835, 1669.815, 1590.3, 1563.795, 1563.795, 1590.3, 1961.37, 2279.43,\n",
    "        2517.975, 2544.48, 2544.48, 2517.975, 2517.975, 2517.975, 2464.965, 2464.965,\n",
    "        2623.995, 2650.5, 2650.5, 2544.48, 2411.955, 2199.915, 1934.865, 1669.815\n",
    "    ],\n",
    "    index=range(1,24+1),\n",
    "    columns=['System Demand [MW]'],\n",
    ")\n",
    "\n",
    "node_demand_share = {\n",
    "    'bus_0': 0.038,\n",
    "    'bus_1': 0.034,\n",
    "    'bus_2': 0.063,\n",
    "    'bus_3': 0.026,\n",
    "    'bus_4': 0.025,\n",
    "    'bus_5': 0.048,\n",
    "    'bus_6': 0.044,\n",
    "    'bus_7': 0.06,\n",
    "    'bus_8': 0.061,\n",
    "    'bus_9': 0.068,\n",
    "    'bus_12': 0.093,\n",
    "    'bus_13': 0.068,\n",
    "    'bus_14': 0.111,\n",
    "    'bus_15': 0.035,\n",
    "    'bus_17': 0.117,\n",
    "    'bus_18': 0.064,\n",
    "    'bus_19': 0.045,\n",
    "}\n",
    "\n",
    "# scaling factor needed to adjust load to total nominal power in the system\n",
    "scaling_factor = network.generators.p_nom.sum() / total_system_demand_df['System Demand [MW]'].max()\n",
    "\n",
    "for index, bus in network.buses.iterrows():\n",
    "    network.add(\n",
    "        'Load',\n",
    "        name=f'demand_{index}',\n",
    "        bus=f'{bus.name}',\n",
    "        p_set=list(total_system_demand_df['System Demand [MW]'] * scaling_factor * node_demand_share.get(bus.name,0))\n",
    "    )\n",
    "    \n",
    "network.loads_t.p_set.sum(axis=1).plot(ylim=[0, 1500])\n"
   ]
  },
  {
   "cell_type": "code",
   "execution_count": null,
   "metadata": {},
   "outputs": [],
   "source": [
    "load_share_2 = network.loads.assign(l=network.loads_t.p_set.mean()).groupby([\"bus\"]).l.sum()\n",
    "\n",
    "network.plot(\n",
    "    bus_sizes=load_share_2 /1000,\n",
    "    title=\"demand\"\n",
    ")"
   ]
  },
  {
   "cell_type": "code",
   "execution_count": null,
   "metadata": {},
   "outputs": [],
   "source": [
    "network.lpf()"
   ]
  },
  {
   "cell_type": "code",
   "execution_count": null,
   "metadata": {},
   "outputs": [],
   "source": [
    "p_nom_share = network.generators.assign(g=network.generators.p_nom).groupby([\"bus\"]).g.sum()\n",
    "\n",
    "network.plot(\n",
    "    bus_sizes=p_nom_share /10000,\n",
    "    title=\"p_nom\",\n",
    "    flow='mean',\n",
    "    line_widths=0.5,\n",
    ")"
   ]
  },
  {
   "cell_type": "code",
   "execution_count": null,
   "metadata": {},
   "outputs": [],
   "source": [
    "network.optimize(solver_name='highs')"
   ]
  },
  {
   "cell_type": "code",
   "execution_count": null,
   "metadata": {},
   "outputs": [],
   "source": [
    "network.generators_t.p"
   ]
  },
  {
   "cell_type": "code",
   "execution_count": null,
   "metadata": {},
   "outputs": [],
   "source": [
    "gen_share = network.generators.assign(g=network.generators_t.p.mean()).groupby([\"bus\"]).g.sum()\n",
    "\n",
    "s = network.generators_t.p.loc[0].groupby([network.generators.bus, network.generators.carrier]).sum()\n",
    "\n",
    "network.plot(\n",
    "    bus_sizes=s / 1000,\n",
    "    flow='mean',\n",
    "    line_widths = 0.1,\n",
    "    link_widths=0.1,\n",
    ")"
   ]
  },
  {
   "cell_type": "markdown",
   "metadata": {},
   "source": []
  },
  {
   "cell_type": "markdown",
   "metadata": {},
   "source": []
  },
  {
   "cell_type": "markdown",
   "metadata": {},
   "source": [
    "## Resources\n",
    "\n",
    "- https://pandapower.readthedocs.io/en/v2.1.0/elements/gen.html\n",
    "\n",
    "\n",
    "updated IEEE 24 bus RTS (2017):\n",
    "- https://backend.orbit.dtu.dk/ws/portalfiles/portal/120568114/\n",
    "An_Updated_Version_of_the_IEEE_RTS_24Bus_System_for_Electricty_Market_an....pdf\n",
    "- https://github.com/chrord/Energy_and_reserves_dispatch_with_DRJCC/blob/master/Codes/src/Data_generation/RTS_Data2.m\n",
    "\n",
    "- https://www.gams.com/45/psoptlib_ml/libhtml/psoptlib_MultiperiodDCOPF24bus.html"
   ]
  }
 ],
 "metadata": {
  "kernelspec": {
   "display_name": "pypsa_pyomo_kernel",
   "language": "python",
   "name": "pypsa_pyomo_kernel"
  },
  "language_info": {
   "codemirror_mode": {
    "name": "ipython",
    "version": 3
   },
   "file_extension": ".py",
   "mimetype": "text/x-python",
   "name": "python",
   "nbconvert_exporter": "python",
   "pygments_lexer": "ipython3",
   "version": "3.11.9"
  }
 },
 "nbformat": 4,
 "nbformat_minor": 2
}
